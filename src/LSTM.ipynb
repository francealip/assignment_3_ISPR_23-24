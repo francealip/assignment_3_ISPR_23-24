{
  "cells": [
    {
      "cell_type": "markdown",
      "id": "57bab9b2f1904cd7",
      "metadata": {
        "id": "57bab9b2f1904cd7"
      },
      "source": [
        "<h2>ASSIGNMENT 5: Airline reviews classification with bidirectional GRU<h2>\n",
        "\n",
        "<h4><b>Author</b>: Aliprandi Francesco<h4>\n"
      ]
    },
    {
      "cell_type": "markdown",
      "id": "c6e9c7ec",
      "metadata": {
        "id": "c6e9c7ec"
      },
      "source": [
        "<b>NOTA:</b> the execution of this notebook has been parameterized to run both locally and on colab. Initially, the notebook was run locally but, for efficiency reasons, with larger models, colab's GPU runtime was exploited."
      ]
    },
    {
      "cell_type": "code",
      "execution_count": 1,
      "id": "76cfa746",
      "metadata": {
        "colab": {
          "base_uri": "https://localhost:8080/"
        },
        "id": "76cfa746",
        "outputId": "e5585740-54d7-4c51-aa37-f07b123c0eef"
      },
      "outputs": [
        {
          "name": "stdout",
          "output_type": "stream",
          "text": [
            "Collecting contractions\n",
            "  Downloading contractions-0.1.73-py2.py3-none-any.whl (8.7 kB)\n",
            "Collecting textsearch>=0.0.21 (from contractions)\n",
            "  Downloading textsearch-0.0.24-py2.py3-none-any.whl (7.6 kB)\n",
            "Collecting anyascii (from textsearch>=0.0.21->contractions)\n",
            "  Downloading anyascii-0.3.2-py3-none-any.whl (289 kB)\n",
            "\u001b[2K     \u001b[90m━━━━━━━━━━━━━━━━━━━━━━━━━━━━━━━━━━━━━━━━\u001b[0m \u001b[32m289.9/289.9 kB\u001b[0m \u001b[31m1.9 MB/s\u001b[0m eta \u001b[36m0:00:00\u001b[0m\n",
            "\u001b[?25hCollecting pyahocorasick (from textsearch>=0.0.21->contractions)\n",
            "  Downloading pyahocorasick-2.1.0-cp310-cp310-manylinux_2_5_x86_64.manylinux1_x86_64.manylinux_2_12_x86_64.manylinux2010_x86_64.whl (110 kB)\n",
            "\u001b[2K     \u001b[90m━━━━━━━━━━━━━━━━━━━━━━━━━━━━━━━━━━━━━━━━\u001b[0m \u001b[32m110.7/110.7 kB\u001b[0m \u001b[31m11.1 MB/s\u001b[0m eta \u001b[36m0:00:00\u001b[0m\n",
            "\u001b[?25hInstalling collected packages: pyahocorasick, anyascii, textsearch, contractions\n",
            "Successfully installed anyascii-0.3.2 contractions-0.1.73 pyahocorasick-2.1.0 textsearch-0.0.24\n"
          ]
        }
      ],
      "source": [
        "#necessary for execution on colab\n",
        "! pip install contractions"
      ]
    },
    {
      "cell_type": "markdown",
      "id": "a310f83a",
      "metadata": {},
      "source": [
        "<h4><b>LIBRARIES AND GLOBAL VARIABLES </b></h4>"
      ]
    },
    {
      "cell_type": "code",
      "execution_count": 3,
      "id": "1fe691e27df9d9c9",
      "metadata": {
        "colab": {
          "base_uri": "https://localhost:8080/"
        },
        "id": "1fe691e27df9d9c9",
        "outputId": "71190963-1e92-401b-d866-2acad68f06ef"
      },
      "outputs": [
        {
          "name": "stderr",
          "output_type": "stream",
          "text": [
            "[nltk_data] Downloading package punkt to /root/nltk_data...\n",
            "[nltk_data]   Unzipping tokenizers/punkt.zip.\n"
          ]
        },
        {
          "name": "stdout",
          "output_type": "stream",
          "text": [
            "Downloading...\n",
            "From: https://drive.google.com/uc?id=1F9Gg-qd5Q9j3fH6_JzuBnykF63QrYCVp\n",
            "To: /content/Airline_Reviews.csv\n",
            "100% 20.5M/20.5M [00:00<00:00, 143MB/s]\n",
            "Downloading...\n",
            "From (original): https://drive.google.com/uc?id=1QyW2tz3_VjxK0nzE2bu5CnTxSYyhKY64\n",
            "From (redirected): https://drive.google.com/uc?id=1QyW2tz3_VjxK0nzE2bu5CnTxSYyhKY64&confirm=t&uuid=5a320196-12ef-48c1-8204-734ca000658b\n",
            "To: /content/glove.6B.300d.txt\n",
            "100% 1.04G/1.04G [00:12<00:00, 83.0MB/s]\n"
          ]
        },
        {
          "name": "stderr",
          "output_type": "stream",
          "text": [
            "[nltk_data] Downloading package stopwords to /root/nltk_data...\n",
            "[nltk_data]   Unzipping corpora/stopwords.zip.\n"
          ]
        }
      ],
      "source": [
        "import os\n",
        "import pandas as pd\n",
        "import numpy as np\n",
        "import matplotlib.pyplot as plt\n",
        "import textwrap\n",
        "import warnings\n",
        "warnings.filterwarnings(\"ignore\", category=DeprecationWarning)\n",
        "\n",
        "import nltk\n",
        "from nltk.corpus import stopwords\n",
        "from nltk import word_tokenize\n",
        "import contractions\n",
        "\n",
        "from sklearn.model_selection import train_test_split\n",
        "import tensorflow as tf\n",
        "from tensorflow.keras.preprocessing.text import Tokenizer\n",
        "from tensorflow.keras.preprocessing.sequence import pad_sequences\n",
        "import keras as K\n",
        "from keras import Input\n",
        "from keras import regularizers\n",
        "from keras.models import Sequential\n",
        "from keras.layers import Embedding, Dense, Dropout, Bidirectional, GRU\n",
        "from keras.callbacks import EarlyStopping\n",
        "from keras.metrics import F1Score\n",
        "\n",
        "colab_execution = True\n",
        "\n",
        "embedding_dim = 300  # Define the embedding dimension\n",
        "glove_embedding = \"glove.6B.\" + str(embedding_dim) +\"d.txt\"\n",
        "\n",
        "if colab_execution:\n",
        "  nltk.download('punkt')\n",
        "  !gdown 1F9Gg-qd5Q9j3fH6_JzuBnykF63QrYCVp\n",
        "  if(embedding_dim == 300):\n",
        "    !gdown 1QyW2tz3_VjxK0nzE2bu5CnTxSYyhKY64\n",
        "  if(embedding_dim == 200):\n",
        "    !gdown 1GlmdQzXhhBgBbNYx16mR2pXs2onmUVev\n",
        "  if(embedding_dim == 100):\n",
        "    !gdown 198jMHeVa76LP2naEUs7RAKuvHaZzKUBa\n",
        "\n",
        "  EMBEDDINGS_PATH = \"/content/\" + glove_embedding\n",
        "  DATASET_PATH = \"/content/Airline_Reviews.csv\"\n",
        "else:\n",
        "  PROJECT_FOLDER_PATH =  os.path.dirname(os.path.abspath(os.getcwd()))\n",
        "  DATASET_PATH = os.path.join(PROJECT_FOLDER_PATH, \"dataset\", 'Airline_Reviews.csv')\n",
        "  EMBEDDINGS_PATH = os.path.join(PROJECT_FOLDER_PATH, \"dataset\", glove_embedding)\n",
        "  #google_embeddings = KeyedVectors.load_word2vec_format(EMBEDDINGS_PATH+'/GoogleNews-vectors-negative300.bin', binary=True) #download google pretrained embeddings\n",
        "\n",
        "\n",
        "nltk.download('stopwords')\n",
        "stop_words = set(stopwords.words('english'))\n",
        "\n",
        "glove_embeddings = {}\n",
        "with open(EMBEDDINGS_PATH) as f:\n",
        "    for line in f:\n",
        "        word, coefs = line.split(maxsplit=1)\n",
        "        coefs = np.fromstring(coefs, \"f\", sep=\" \")\n",
        "        glove_embeddings[word] = coefs\n",
        "\n",
        "vocab_size = 20000  # Define the vocabulary size\n",
        "max_sequence_length = 200  # Define the maximum sequence length\n",
        "num_classes = 9  # Define the number of output classes"
      ]
    },
    {
      "cell_type": "markdown",
      "id": "3e8c0c8df4728065",
      "metadata": {
        "id": "3e8c0c8df4728065"
      },
      "source": [
        "<h4><b>1. DATASET MANAGEMENT </b></h4>\n",
        "\n",
        "\n"
      ]
    },
    {
      "cell_type": "markdown",
      "id": "1802121573b585f7",
      "metadata": {
        "id": "1802121573b585f7"
      },
      "source": [
        "<h4><b>1.1 Read dataset </b></h4>\n",
        "\n",
        "\n"
      ]
    },
    {
      "cell_type": "markdown",
      "id": "8cf8b2f6",
      "metadata": {
        "id": "8cf8b2f6"
      },
      "source": [
        "<b>read_data</b>: this function allows to read the relevant columns in the dataset. \n",
        "To improve model's prediciting capabilities both title and review are considered by concatenating them in a single sentence."
      ]
    },
    {
      "cell_type": "code",
      "execution_count": 4,
      "id": "initial_id",
      "metadata": {
        "collapsed": true,
        "id": "initial_id"
      },
      "outputs": [],
      "source": [
        "def read_data(file_path):\n",
        "    \"\"\"\n",
        "    Read the dataset from the file path.\n",
        "    :param file_path: The path to the dataset.\n",
        "    :return: The dataset and the targets as a pandas DataFrame\n",
        "    \"\"\"\n",
        "    df = pd.read_csv(file_path)[[\"Review_Title\", \"Review\", \"Overall_Rating\"]]\n",
        "    df['Overall_Rating'] = pd.to_numeric(df['Overall_Rating'], errors='coerce')\n",
        "    df[\"Review_Title\"] = df['Review_Title'].str.strip('\"')\n",
        "    df [\"Review\"] = df[\"Review_Title\"] + \" \" + df[\"Review\"]\n",
        "    df.dropna(subset=['Overall_Rating'], inplace=True)\n",
        "    df = df.drop(columns=[\"Review_Title\"])\n",
        "    return df\n",
        "\n",
        "df = read_data(DATASET_PATH)"
      ]
    },
    {
      "cell_type": "markdown",
      "id": "eb439447",
      "metadata": {
        "id": "eb439447"
      },
      "source": [
        "<h4><b>1.1.2 Dataset analysis</b></h4>\n",
        "\n",
        "In this cell three random reviews are selected from class 1, 4 and 9.\n",
        "These randomly extracted examples from the dataset reveal the presence of outliers, which significantly complicate the classification problem. Despite belonging to completely different classes, all these reviews seems to be very positive."
      ]
    },
    {
      "cell_type": "code",
      "execution_count": null,
      "id": "3acc523c",
      "metadata": {
        "colab": {
          "base_uri": "https://localhost:8080/"
        },
        "id": "3acc523c",
        "outputId": "42121b4d-3ca6-448c-bb36-5ba5af64c408"
      },
      "outputs": [
        {
          "name": "stdout",
          "output_type": "stream",
          "text": [
            "Classe: 1.0\n",
            "Review: a very good flight   Las Vegas to Manchester. My first time flying with Thomas Cook Airlines it was\n",
            "a very good flight. The crew was very polite and charismatic and made sure all my needs where met.\n",
            "One of the flight attendants even gave me a IFE Code free since my debit card wouldn't work with\n",
            "their machines. I flew economy and had good leg room but my knees constantly hit the tray table when\n",
            "I had to move. This was annoying but I only ran into the problem during meal service. The plane\n",
            "arrived on time.  The plane had no on-board WIFI but I was asleep for most of the flight so that\n",
            "wasn't to much of a problem. The A330-200 didn't have personal air-vents.\n",
            "\n",
            "Classe: 4.0\n",
            "Review: Air Nostrum customer review Gran Canaria - Valencia return. Checked in online in both directions and\n",
            "only had to drop my luggage at the counter. Almost full CRJ 200 and must admit that it was a\n",
            "pleasure to fly with this airline. Comfortable leather seats emergency exit seat so plenty of\n",
            "legroom for a 6'4'' passenger like me (also noticed that the other rows of seats also had above\n",
            "average space) although the seats were a bit narrow due to the width of the plane rather than Air\n",
            "Nostrum seating. The two flight attendants were cheerful and helpful: a sandwich and beer was\n",
            "provided (more than adequate for the time of day and length of flight (2h30m). Infinitely better\n",
            "flight than Iberia via Madrid Air Nostrum will be my airlibne of preference for domestic flights in\n",
            "Spain.\n",
            "\n",
            "Classe: 9.0\n",
            "Review: what a fantastic airline it turned out to be   Kathmandu to Delhi. I flew Nepal Airlines as the\n",
            "national flag carrier of Nepal. Was a bit apprehensive choosing this airline but what a fantastic\n",
            "airline it turned out to be, flights were punctual, priority boarding at all sectors, attentive and\n",
            "smiling and also the in-flight food was very tasty. Apart from the security checks at TIA and\n",
            "Immigration, everything else was as good if not better comparing to some other 5* airlines I have\n",
            "flown. Give this airline a try and you will be pleasantly surprised.\n",
            "\n"
          ]
        }
      ],
      "source": [
        "random_rows = df.groupby('Overall_Rating').apply(lambda x: x.sample(1))\n",
        "\n",
        "# Stampa le righe selezionate casualmente\n",
        "for index, row in random_rows.iterrows():\n",
        "    if row['Overall_Rating'] in [1,4,9]:\n",
        "        print(f\"Classe: {row['Overall_Rating']}\\nReview: {textwrap.fill(row['Review'],100)}\\n\")\n"
      ]
    },
    {
      "cell_type": "markdown",
      "id": "667e4b25",
      "metadata": {
        "id": "667e4b25"
      },
      "source": [
        "The dataset is highly skewed in favor of class 1, further complicating the analysis"
      ]
    },
    {
      "cell_type": "code",
      "execution_count": null,
      "id": "0adc816d",
      "metadata": {
        "id": "0adc816d",
        "outputId": "ffd04583-9f7e-4931-b2ca-19e7e7413074"
      },
      "outputs": [
        {
          "data": {
            "text/plain": [
              "Overall_Rating\n",
              "1.0    11595\n",
              "2.0     2296\n",
              "9.0     1768\n",
              "8.0     1757\n",
              "3.0     1356\n",
              "7.0     1192\n",
              "4.0      859\n",
              "5.0      830\n",
              "6.0      676\n",
              "Name: count, dtype: int64"
            ]
          },
          "execution_count": 127,
          "metadata": {},
          "output_type": "execute_result"
        }
      ],
      "source": [
        "df['Overall_Rating'].value_counts()"
      ]
    },
    {
      "cell_type": "markdown",
      "id": "1a6f89146ac07f9c",
      "metadata": {
        "id": "1a6f89146ac07f9c"
      },
      "source": [
        "<h4><b>1.2 Preprocessing </b></h4>"
      ]
    },
    {
      "cell_type": "markdown",
      "id": "8984faaa",
      "metadata": {
        "id": "8984faaa"
      },
      "source": [
        "<b>Create embedding matrix:</b>\n",
        "\n",
        "this function create the embedding matrix using pretrained embeddings. It also compute the ratio between founded and unfounded tokens inside the text and stores unfounded tokens in a list. \n",
        "\n",
        "For this analysis pretrained embeddings are selected to significantly reduce the total number of parameters to be trained. \n",
        "\n",
        "Four different pretrained embeddings were considered: Google news pretrained embeddings and Glove pretrained embedding with size 100, 200, 300. Glove embeddings were preferred to Google embeddings because they allowed for a higher matching rate while the size of the embeddings was chosen based on the results in validation obtained on the model.\n",
        "\n",
        "<b>Remove contraction:</b> function that remove contracted forms from sentences. It allows maximizing the tokens recognized among those in the glove vocabulary tokens.\n",
        "\n",
        "<b>Stopword removal</b> function that remove stopwords forms from sentences. It allows to improve model generalization by remove frequent, non-discriminative words\n",
        "\n",
        "<b>Data preprocessing:</b> perform the preprocessing on the dataset:\n",
        "1. lowercase sentences\n",
        "2. remove contractions\n",
        "3. remove everything that is not alphanumeric using regex\n",
        "4. tokenize the sentece\n",
        "5. remove stopwords\n",
        "6. transform text in numeric sequence\n",
        "7. pad sequence\n",
        "8. one-hot encode target column"
      ]
    },
    {
      "cell_type": "code",
      "execution_count": 5,
      "id": "cec4ad5f37e0e696",
      "metadata": {
        "id": "cec4ad5f37e0e696"
      },
      "outputs": [],
      "source": [
        "def create_embedding_matrix(word_index, pretrained_embeddings):\n",
        "    \"\"\"\n",
        "    Create the embedding matrix from the word embeddings.\n",
        "    :param word_index: The word index.\n",
        "    :param pretrained_embeddings: The pretrained embeddings.\n",
        "    :return: The embedding matrix.\n",
        "    \"\"\"\n",
        "    embedding_matrix = np.zeros((vocab_size, embedding_dim))\n",
        "    find = 0\n",
        "    not_find = 0\n",
        "    unmached_words = []\n",
        "    for word, i in word_index.items():\n",
        "        if word in pretrained_embeddings:\n",
        "            embedding_vector = pretrained_embeddings[word]\n",
        "            embedding_matrix[i] = embedding_vector\n",
        "            find += 1\n",
        "        else:\n",
        "            embedding_matrix[i] = np.random.normal(0, 1, embedding_dim)\n",
        "            not_find += 1\n",
        "            if word not in unmached_words:\n",
        "                unmached_words.append(word)\n",
        "    return embedding_matrix, find/(find+not_find), unmached_words\n",
        "\n",
        "def remove_contraction(sentence):\n",
        "    \"\"\"\n",
        "    Remove contracted form from sentence\n",
        "\n",
        "    :param corpus: the sentence to remove contractions from\n",
        "    :return: the cleaned sentence\n",
        "    \"\"\"\n",
        "    expanded_words = []\n",
        "    for word in sentence.split():\n",
        "        expanded_words.append(contractions.fix(word))\n",
        "    return ' '.join(expanded_words)\n",
        "\n",
        "def stopwords_removal(sentence):\n",
        "    \"\"\"\n",
        "    Remove the stop words from the text.\n",
        "\n",
        "    :param corpus: The text to remove the stop words from\n",
        "    :return: The text with the stop words removed, as a string.\n",
        "    \"\"\"\n",
        "    filtered_sentence = []\n",
        "    for w in sentence:\n",
        "        if w not in stop_words:\n",
        "            filtered_sentence.append(w)\n",
        "    return list(filtered_sentence)\n",
        "\n",
        "def data_preprocessing(df):\n",
        "    \"\"\"\n",
        "    Clean the text by removing stopwords and punctuation.\n",
        "    :param df: The df to clean\n",
        "    :return: The cleaned df as a list of sentences , the targets hone hot encoded and the word index\n",
        "    \"\"\"\n",
        "    #drop rows to balance dataset\n",
        "    #df.drop(df[df['Overall_Rating'] == 1.0].sample(frac=0.7).index, inplace=True)\n",
        "    #lower case sentences\n",
        "    df[\"Review\"] = df[\"Review\"].str.lower()\n",
        "    #remove contractions\n",
        "    df['Review'] = df['Review'].apply(remove_contraction)\n",
        "    #remove non alphanumeric characters (also puntation)\n",
        "    df[\"Review\"] = df[\"Review\"].replace(r'[^a-zA-Z0-9\\s]', '', regex=True)\n",
        "    #tokenize sentences\n",
        "    df['Review'] = df['Review'].apply(word_tokenize)\n",
        "    #remove stopwords\n",
        "    df['Review'] = df['Review'].apply(stopwords_removal)\n",
        "    #convert to list\n",
        "    corpus = df[\"Review\"].values.tolist()\n",
        "    #text to sequence\n",
        "    tokenizer = Tokenizer(num_words=vocab_size)\n",
        "    tokenizer.fit_on_texts(corpus)\n",
        "    word_index = tokenizer.word_index\n",
        "    #print(\"Found\", len(word_index), \"unique tokens.\")\n",
        "    corpus = tokenizer.texts_to_sequences(corpus)\n",
        "    #pad sequences\n",
        "    corpus = pad_sequences(corpus, maxlen=max_sequence_length)\n",
        "    #one hot encode targets\n",
        "    target = pd.get_dummies(df[\"Overall_Rating\"], dtype=float)\n",
        "    target = np.array(target.values.tolist())\n",
        "    return corpus, target, word_index\n",
        "\n",
        "inputs, targets, word_index = data_preprocessing(df)\n",
        "print(word_index)\n",
        "#keep only the first vocab_size words\n",
        "word_index = dict(list(word_index.items())[:vocab_size-1])\n",
        "\n",
        "embedding_matrix, find_ratio, unmached_words = create_embedding_matrix(word_index, glove_embeddings)"
      ]
    },
    {
      "cell_type": "markdown",
      "id": "21f16067",
      "metadata": {
        "id": "21f16067"
      },
      "source": [
        "This cell shows find ratio inside the glove pretrained embeddings. 87% of the tokens in the dataset were recognized within Glove's vocabulary. Among the 2,639 unrecognized tokens, we can observe typos, numbers, nonsense words, as well as meaningful words that likely fall outside the domain covered by GloVe. In the create_embedding_matrix function, the embeddings for these tokens are replaced with random noise generated from a Gaussian distribution."
      ]
    },
    {
      "cell_type": "code",
      "execution_count": null,
      "id": "2ac47de0",
      "metadata": {
        "colab": {
          "base_uri": "https://localhost:8080/"
        },
        "id": "2ac47de0",
        "outputId": "e4414d67-c917-4fbb-9f1b-b19a1a3b30a2"
      },
      "outputs": [
        {
          "name": "stdout",
          "output_type": "stream",
          "text": [
            "Find ratio: 0.8680434021701086\n",
            "Unmached tokens count: 2639\n",
            "Unmached words examples:\n",
            "['442316', 'beenruimte', 'wellorganized', 'fukkix', 'cous', '7378', 'jt25', 'moodlighting', 'luxfra', 'b767']\n",
            "['noshow', 'queing', 'groundforce', 'galement', 'innan', 'bwn', 'unrespectful', 'bezahlen', 'ancfaianc', 'overpacked']\n"
          ]
        }
      ],
      "source": [
        "import random\n",
        "\n",
        "print(\"Find ratio:\", find_ratio)\n",
        "print(\"Unmached tokens count:\", len(unmached_words))\n",
        "print(\"Unmached words examples:\\n\" + str(random.sample(unmached_words, 10)))\n",
        "print(str(random.sample(unmached_words, 10)))"
      ]
    },
    {
      "cell_type": "markdown",
      "id": "ccbec1d5",
      "metadata": {
        "id": "ccbec1d5"
      },
      "source": [
        "Since the problem is highly unbalanced, train test split is applied applying stratify technique. Manually random undersampling was considered to try to handle the unbalanced dataset. However, this technique only reduced the predictive ability of the models."
      ]
    },
    {
      "cell_type": "code",
      "execution_count": 6,
      "id": "42b3a24671adc89c",
      "metadata": {
        "colab": {
          "base_uri": "https://localhost:8080/"
        },
        "id": "42b3a24671adc89c",
        "outputId": "2169b6ee-0a77-402a-f898-003049173256"
      },
      "outputs": [
        {
          "name": "stdout",
          "output_type": "stream",
          "text": [
            "(13397, 200) (13397, 9) (4466, 200) (4466, 9) (4466, 200) (4466, 9)\n"
          ]
        }
      ],
      "source": [
        "x_train, x_temp, y_train, y_temp = train_test_split(inputs, targets, test_size=0.4, stratify=targets, random_state=10)\n",
        "x_val, x_test, y_val, y_test = train_test_split(x_temp, y_temp, test_size=0.5, stratify=y_temp, random_state=10)\n",
        "\n",
        "print(x_train.shape, y_train.shape, x_val.shape, y_val.shape, x_test.shape, y_test.shape)"
      ]
    },
    {
      "cell_type": "markdown",
      "id": "4b6ca1a8",
      "metadata": {
        "id": "4b6ca1a8"
      },
      "source": [
        "<h4><b>1.3 Model architecture and training</b></h4>\n",
        "\n",
        "The best architecture for the model was found by performing a manual grid search on several possible architectures for efficiency reasons. A grid search on such large models would have required too much computing power for the free colab plan. However, by running on colab's GPU, it was possible to use slightly larger architectures.\n",
        "\n",
        "<b>Architecurals choices:</b>\n",
        "- <b>Pretrained embeddings</b>: the use of pretrained embeddings allowed the number of trainable parameters of the model to be reduced from 6M to about 200k. This reduction resulted in an improvement in the average performance of the model and, more importantly, allowed the use of slightly larger regularized architectures.\n",
        "- <b>GRU</b>: The use of Gated Recurrent Units (GRUs) results in a model with higher storage capacity than a simple RNN and fewer parameters than an LSTM model.\n",
        "- <b>Bidirectional</b>: the use of bidirectional layers allows to process the input sequence both from left to right and from right to left, to make the most of the input data. The use of bidirectional layer is always recomanded when all the input sequence is known.\n",
        "- <b>dense NN</b>: a dense NN is added at the end of the model to best postprocess the information extracted from the two GRU layers. The softmax function allows a probability distribution to be obtained in output.\n",
        "- <b>F1-score</b>: F1 score is considered instead of accuracy given the unbalancing of the dataset. \n",
        "- For managing dataset unbalancing also a weighted personalized loss was considered but it led to worse results.\n",
        "\n",
        "<b>Model training</b>: \n",
        "\n",
        "for model training, the number of epochs was set at 12 to avoid overfitting and the batch size at 64 because it often represents a good compromise between gradient stability and training speed. As it is possible to observe early stopping is triggered to prevent overfitting. "
      ]
    },
    {
      "cell_type": "code",
      "execution_count": 47,
      "id": "18a3700895a8dbd6",
      "metadata": {
        "colab": {
          "base_uri": "https://localhost:8080/"
        },
        "id": "18a3700895a8dbd6",
        "outputId": "153e6353-0445-46e2-c9bd-30f28ddc5a7e"
      },
      "outputs": [
        {
          "name": "stdout",
          "output_type": "stream",
          "text": [
            "Model: \"sequential_13\"\n",
            "_________________________________________________________________\n",
            " Layer (type)                Output Shape              Param #   \n",
            "=================================================================\n",
            " embedding_13 (Embedding)    (None, None, 300)         6000000   \n",
            "                                                                 \n",
            " bidirectional_26 (Bidirect  (None, None, 140)         156240    \n",
            " ional)                                                          \n",
            "                                                                 \n",
            " bidirectional_27 (Bidirect  (None, 70)                37170     \n",
            " ional)                                                          \n",
            "                                                                 \n",
            " dense_39 (Dense)            (None, 36)                2556      \n",
            "                                                                 \n",
            " dropout_13 (Dropout)        (None, 36)                0         \n",
            "                                                                 \n",
            " dense_40 (Dense)            (None, 18)                666       \n",
            "                                                                 \n",
            " dense_41 (Dense)            (None, 9)                 171       \n",
            "                                                                 \n",
            "=================================================================\n",
            "Total params: 6196803 (23.64 MB)\n",
            "Trainable params: 196803 (768.76 KB)\n",
            "Non-trainable params: 6000000 (22.89 MB)\n",
            "_________________________________________________________________\n",
            "Epoch 1/12\n",
            "210/210 [==============================] - 19s 44ms/step - loss: 1.6374 - f1_score: 0.3601 - val_loss: 1.4444 - val_f1_score: 0.3549\n",
            "Epoch 2/12\n",
            "210/210 [==============================] - 10s 48ms/step - loss: 1.4252 - f1_score: 0.3789 - val_loss: 1.3592 - val_f1_score: 0.3549\n",
            "Epoch 3/12\n",
            "210/210 [==============================] - 7s 36ms/step - loss: 1.3482 - f1_score: 0.3819 - val_loss: 1.3017 - val_f1_score: 0.3935\n",
            "Epoch 4/12\n",
            "210/210 [==============================] - 10s 47ms/step - loss: 1.3036 - f1_score: 0.4057 - val_loss: 1.2766 - val_f1_score: 0.4324\n",
            "Epoch 5/12\n",
            "210/210 [==============================] - 8s 37ms/step - loss: 1.2692 - f1_score: 0.4248 - val_loss: 1.2684 - val_f1_score: 0.4212\n",
            "Epoch 6/12\n",
            "210/210 [==============================] - 9s 44ms/step - loss: 1.2383 - f1_score: 0.4433 - val_loss: 1.2569 - val_f1_score: 0.4498\n",
            "Epoch 7/12\n",
            "210/210 [==============================] - 8s 40ms/step - loss: 1.2130 - f1_score: 0.4660 - val_loss: 1.2573 - val_f1_score: 0.4716\n",
            "Epoch 8/12\n",
            "210/210 [==============================] - 9s 42ms/step - loss: 1.1898 - f1_score: 0.4734 - val_loss: 1.2634 - val_f1_score: 0.4791\n"
          ]
        }
      ],
      "source": [
        "model = Sequential()\n",
        "# Add an input layer\n",
        "model.add(Input(shape=(None,), dtype=\"int32\"))\n",
        "# Add an embedding layer to convert input sequences to dense vectors\n",
        "model.add(Embedding(input_dim=vocab_size,  output_dim=embedding_dim, weights=[embedding_matrix],\n",
        "                    input_length=max_sequence_length, trainable=False))\n",
        "# Add LSTM layers\n",
        "model.add(Bidirectional(GRU(70, dropout=0.3, return_sequences=True)))\n",
        "model.add(Bidirectional(GRU(35, dropout=0.3, return_sequences=False)))\n",
        "# add a NN for 9 class classification\n",
        "model.add(Dense(36, activation='relu', kernel_regularizer=regularizers.L2(1e-5)))\n",
        "model.add(Dropout(0.4, noise_shape=None, seed=10))\n",
        "model.add(Dense(18, activation='relu', kernel_regularizer=regularizers.L2(1e-5)))\n",
        "model.add(Dense(9, activation='softmax'))\n",
        "\n",
        "# Compile the model\n",
        "f1 = F1Score(average=\"weighted\", name=\"f1_score\")\n",
        "model.compile(loss=\"categorical_crossentropy\", optimizer='adam', metrics=[f1])\n",
        "\n",
        "model.summary()\n",
        "\n",
        "early_stopping = EarlyStopping(monitor='val_loss', min_delta=0.007, patience=2)\n",
        "\n",
        "history = model.fit(x_train, y_train, epochs=12, batch_size=64, validation_data=(x_val,y_val), callbacks=[early_stopping])"
      ]
    },
    {
      "cell_type": "markdown",
      "id": "ff292b42",
      "metadata": {},
      "source": [
        "<h4><b>1.3 Model evaluation</b></h4>\n",
        "\n",
        "The value of the model loss is in line with that of the validation loss, highlighting the effectiveness of early stopping in preventing overfitting. In addition, the plot of the training and validation curves demonstrates the stability and smoothness of the training process.\n",
        "\n",
        "The value of the F1-score is insignificant given the countless challenges encountered in managing that dataset such as: the unbalance of the dataset, the presence of outliers and the high number of classes. "
      ]
    },
    {
      "cell_type": "code",
      "execution_count": 48,
      "id": "4784dbae8aa4775a",
      "metadata": {
        "colab": {
          "base_uri": "https://localhost:8080/",
          "height": 555
        },
        "id": "4784dbae8aa4775a",
        "outputId": "e5d9f907-15fb-49dd-f599-dcfe13baa4e6"
      },
      "outputs": [
        {
          "name": "stdout",
          "output_type": "stream",
          "text": [
            "140/140 [==============================] - 3s 13ms/step\n",
            "140/140 [==============================] - 3s 20ms/step - loss: 1.2627 - f1_score: 0.4868\n",
            "Test set:\n",
            "  Loss: 1.263\n",
            "  Weighted F1-score: 0.487\n"
          ]
        },
        {
          "data": {
            "image/png": "[encoded data removed]",
            "text/plain": [
              "<Figure size 640x480 with 1 Axes>"
            ]
          },
          "metadata": {},
          "output_type": "display_data"
        }
      ],
      "source": [
        "y_pred = model.predict(x_test)\n",
        "\n",
        "# Evaluate the model\n",
        "loss, f1 = model.evaluate(x_test, y_test)\n",
        "print('Test set:\\n  Loss: {:0.3f}\\n  Weighted F1-score: {:0.3f}'.format(loss, f1))\n",
        "\n",
        "plt.title('Loss')\n",
        "plt.plot(history.history['loss'], label='train')\n",
        "plt.plot(history.history['val_loss'], label='validation')\n",
        "plt.legend()\n",
        "plt.show()"
      ]
    },
    {
      "cell_type": "markdown",
      "id": "93824f7b",
      "metadata": {},
      "source": [
        "To measure the predictive ability of the model, the average distance between the class predicted by the model and the true label was calculated. The model is very unbalanced in recognizing classes 1 and 8 (probable \"centroids\" for subclasses such as \"very bad trip\" and \"very good trip\"), being poor at recognizing intermediate classes.\n"
      ]
    },
    {
      "cell_type": "code",
      "execution_count": 49,
      "id": "ed0699ec2c084298",
      "metadata": {
        "colab": {
          "base_uri": "https://localhost:8080/"
        },
        "id": "ed0699ec2c084298",
        "outputId": "e8622951-4a45-437f-9be5-70f3821ee986"
      },
      "outputs": [
        {
          "name": "stdout",
          "output_type": "stream",
          "text": [
            "Pred. label:\t{1: 2860, 2: 136, 3: 69, 4: 70, 5: 9, 6: 93, 7: 175, 8: 754, 9: 300}\n",
            "True label:\t{1: 2319, 2: 460, 3: 271, 4: 172, 5: 166, 6: 135, 7: 238, 8: 352, 9: 353}\n",
            "\n",
            "Mean distance:\t1.3484\n"
          ]
        }
      ],
      "source": [
        "y_pred_cat = np.argmax(y_pred, axis=1)+1\n",
        "y_test_cat = np.argmax(y_test, axis=1)+1\n",
        "distance = 0\n",
        "\n",
        "for i in range(len(y_pred_cat)):\n",
        "    distance += abs(y_pred_cat[i] - y_test_cat[i])\n",
        "distance = distance/len(y_pred_cat)\n",
        "\n",
        "pred_cat = {1: 0, 2: 0, 3: 0, 4: 0, 5: 0, 6: 0, 7: 0, 8: 0, 9: 0}\n",
        "true_cat = {1: 0, 2: 0, 3: 0, 4: 0, 5: 0, 6: 0, 7: 0, 8: 0, 9: 0}\n",
        "\n",
        "for i in y_pred_cat:\n",
        "    pred_cat[i] += 1\n",
        "for i in y_test_cat:\n",
        "    true_cat[i] += 1\n",
        "\n",
        "print(\"Pred. label:\\t{}\".format(pred_cat))\n",
        "print(\"True label:\\t{}\\n\".format(true_cat))\n",
        "print(\"Mean distance:\\t\" + str(round(distance,4)))\n",
        "\n"
      ]
    },
    {
      "cell_type": "markdown",
      "id": "b64661eb",
      "metadata": {},
      "source": [
        "<h4><b>1.3 Considerations </b></h4>\n",
        "\n",
        "One of the main challenges in NLP tasks is data preprocessing. Decisions made at this stage can significantly affect the predictive capabilities of the models, leading to different results. In this analysis, a pipeline was implemented to normalize the text as much as possible, making the best use of pre-trained embeddings.\n",
        "\n",
        "Another complex decision concerns the choice of vocabulary parameters, such as vocabulary size, embeddings size, and maximum sequence length. In an attempt to find the best configuration, several values for these parameters were tried.\n",
        "\n",
        "Finally, the last important decision concerns the architecture of the model. A deeper analysis with more resources should certainly take into consideration the possibility of a grid search.   \n",
        "\n",
        "A further analysis can take into account class aggregation. In fact, merging the 9 classes into only 3 or 4 classes we can balance slightly the dataset, reduce the outliers and improve model's classification abilities. \n",
        "\n",
        "At the link https://www.kaggle.com/code/viceriomarinowski/how-was-their-flight is an analysis with class aggregation, it achieves 77% of accuracy with Naive Bayes and 82% with Gradient boosting machines that are baseline with respect to LSTM architectures."
      ]
    }
  ],
  "metadata": {
    "accelerator": "GPU",
    "colab": {
      "gpuType": "T4",
      "provenance": []
    },
    "kernelspec": {
      "display_name": "Python 3",
      "name": "python3"
    },
    "language_info": {
      "codemirror_mode": {
        "name": "ipython",
        "version": 3
      },
      "file_extension": ".py",
      "mimetype": "text/x-python",
      "name": "python",
      "nbconvert_exporter": "python",
      "pygments_lexer": "ipython3",
      "version": "3.12.2"
    }
  },
  "nbformat": 4,
  "nbformat_minor": 5
}
